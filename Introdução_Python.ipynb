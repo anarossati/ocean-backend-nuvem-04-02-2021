{
  "nbformat": 4,
  "nbformat_minor": 0,
  "metadata": {
    "colab": {
      "name": "Untitled0.ipynb",
      "provenance": [],
      "authorship_tag": "ABX9TyMgLL+IwmM5xURUH8Hi+CEh",
      "include_colab_link": true
    },
    "kernelspec": {
      "name": "python3",
      "display_name": "Python 3"
    }
  },
  "cells": [
    {
      "cell_type": "markdown",
      "metadata": {
        "id": "view-in-github",
        "colab_type": "text"
      },
      "source": [
        "<a href=\"https://colab.research.google.com/github/anarossati/ocean-backend-nuvem-04-02-2021/blob/main/Introdu%C3%A7%C3%A3o_Python.ipynb\" target=\"_parent\"><img src=\"https://colab.research.google.com/assets/colab-badge.svg\" alt=\"Open In Colab\"/></a>"
      ]
    },
    {
      "cell_type": "code",
      "metadata": {
        "colab": {
          "base_uri": "https://localhost:8080/"
        },
        "id": "e4Bb3St72zEK",
        "outputId": "b0d74bf4-a111-4c0e-f151-664613c6dbd2"
      },
      "source": [
        "print(\"Olá, Ana!\")"
      ],
      "execution_count": 2,
      "outputs": [
        {
          "output_type": "stream",
          "text": [
            "Olá, Ana!\n"
          ],
          "name": "stdout"
        }
      ]
    },
    {
      "cell_type": "code",
      "metadata": {
        "colab": {
          "base_uri": "https://localhost:8080/"
        },
        "id": "1AYgN3nT3StV",
        "outputId": "03e25e2d-e2d8-496a-8813-cc6b6bd1321f"
      },
      "source": [
        "nome = \"Ana\"\r\n",
        "print (nome)"
      ],
      "execution_count": 4,
      "outputs": [
        {
          "output_type": "stream",
          "text": [
            "Ana\n"
          ],
          "name": "stdout"
        }
      ]
    },
    {
      "cell_type": "code",
      "metadata": {
        "colab": {
          "base_uri": "https://localhost:8080/"
        },
        "id": "sXeBprW63daD",
        "outputId": "8f3ab125-3a65-4dca-bf49-a625038d47bb"
      },
      "source": [
        "sobrenome = \"Rossati\"\r\n",
        "\r\n",
        "nome_completo = nome + \" \" + sobrenome\r\n",
        "\r\n",
        "print(nome_completo)\r\n"
      ],
      "execution_count": 5,
      "outputs": [
        {
          "output_type": "stream",
          "text": [
            "Ana Rossati\n"
          ],
          "name": "stdout"
        }
      ]
    },
    {
      "cell_type": "code",
      "metadata": {
        "colab": {
          "base_uri": "https://localhost:8080/"
        },
        "id": "egkaDkBj3pXj",
        "outputId": "6e16dd27-60c1-4b77-ebbd-42d639109a96"
      },
      "source": [
        "idade = 27\r\n",
        "print(idade)"
      ],
      "execution_count": 6,
      "outputs": [
        {
          "output_type": "stream",
          "text": [
            "27\n"
          ],
          "name": "stdout"
        }
      ]
    },
    {
      "cell_type": "code",
      "metadata": {
        "colab": {
          "base_uri": "https://localhost:8080/"
        },
        "id": "ST6mL3rB3wX4",
        "outputId": "b8d467f9-90e6-4c9a-ac4d-0aaf7c3224d8"
      },
      "source": [
        "lista = [5, 9, 7, 6]\r\n",
        "\r\n",
        "print(lista)\r\n",
        "\r\n",
        "print(type(lista))\r\n",
        "\r\n",
        "print(\"Primeiro elemento é o\", lista[0])\r\n",
        "\r\n",
        "print(len(lista), \"elementos\")\r\n",
        "\r\n",
        "print(\"Elementos únicos:\", set(lista))"
      ],
      "execution_count": 13,
      "outputs": [
        {
          "output_type": "stream",
          "text": [
            "[5, 9, 7, 6]\n",
            "<class 'list'>\n",
            "Primeiro elemento é o 5\n",
            "4 elementos\n",
            "Elementos únicos: {9, 5, 6, 7}\n"
          ],
          "name": "stdout"
        }
      ]
    },
    {
      "cell_type": "code",
      "metadata": {
        "colab": {
          "base_uri": "https://localhost:8080/"
        },
        "id": "H8roq3tX5N9w",
        "outputId": "e2e2d451-6e5a-4b08-8410-a10b89afeccf"
      },
      "source": [
        "# 0 -> Preto\r\n",
        "# 1 -> Branco\r\n",
        "# Qualquer valor entre 0 e 1 representa um tom de cinza\r\n",
        "\r\n",
        "linha1 = [0, 0, 0]\r\n",
        "linha2 = [0, 1, 0]\r\n",
        "linha3 = [0, 0.5, 0]\r\n",
        "\r\n",
        "imagem = [linha1, linha2, linha3]\r\n",
        "\r\n",
        "print(imagem)"
      ],
      "execution_count": 14,
      "outputs": [
        {
          "output_type": "stream",
          "text": [
            "[[0, 0, 0], [0, 1, 0], [0, 0.5, 0]]\n"
          ],
          "name": "stdout"
        }
      ]
    },
    {
      "cell_type": "code",
      "metadata": {
        "colab": {
          "base_uri": "https://localhost:8080/"
        },
        "id": "BtJyov3B5sjb",
        "outputId": "d46d13f6-4781-44e2-8c7e-0f012b3427fc"
      },
      "source": [
        "# tupla nao permite que eu mude o valor dela\r\n",
        "# nao precisa de parênteses\r\n",
        "\r\n",
        "tupla = (5, 6, 7)\r\n",
        "\r\n",
        "print(tupla)\r\n",
        "\r\n",
        "print(type(tupla))\r\n",
        "\r\n",
        "print(tupla[0])\r\n",
        "\r\n",
        "print(len(tupla))"
      ],
      "execution_count": 19,
      "outputs": [
        {
          "output_type": "stream",
          "text": [
            "(5, 6, 7)\n",
            "<class 'tuple'>\n",
            "5\n",
            "3\n"
          ],
          "name": "stdout"
        }
      ]
    },
    {
      "cell_type": "code",
      "metadata": {
        "colab": {
          "base_uri": "https://localhost:8080/"
        },
        "id": "HaEnPn1C6RE0",
        "outputId": "28d2d1a3-da79-422c-9f21-5c2b30de8195"
      },
      "source": [
        "tupla = 4, 9, 3\r\n",
        "\r\n",
        "tupla = list(tupla)\r\n",
        "\r\n",
        "tupla[0] = 99\r\n",
        "\r\n",
        "tupla = tuple(tupla)\r\n",
        "\r\n",
        "print(tupla)\r\n",
        "print(type(tupla))"
      ],
      "execution_count": 20,
      "outputs": [
        {
          "output_type": "stream",
          "text": [
            "(99, 9, 3)\n",
            "<class 'tuple'>\n"
          ],
          "name": "stdout"
        }
      ]
    },
    {
      "cell_type": "code",
      "metadata": {
        "colab": {
          "base_uri": "https://localhost:8080/"
        },
        "id": "zhJ4I9kQ6gze",
        "outputId": "4da8b78e-0697-470a-bf89-f5d64bfe1fca"
      },
      "source": [
        "tupla = \"Paulo\", \"Salvatore\"\r\n",
        "\r\n",
        "print(tupla)\r\n",
        "print(type(tupla))\r\n",
        "\r\n",
        "nome = tupla[0]\r\n",
        "sobrenome = tupla[1]\r\n",
        "\r\n",
        "print(nome)\r\n",
        "print(sobrenome)"
      ],
      "execution_count": 24,
      "outputs": [
        {
          "output_type": "stream",
          "text": [
            "('Paulo', 'Salvatore')\n",
            "<class 'tuple'>\n",
            "Paulo\n",
            "Salvatore\n"
          ],
          "name": "stdout"
        }
      ]
    },
    {
      "cell_type": "code",
      "metadata": {
        "colab": {
          "base_uri": "https://localhost:8080/"
        },
        "id": "QNDPzAY17Du3",
        "outputId": "76286da3-c585-4d62-daa9-35522865911d"
      },
      "source": [
        "lista = (\"Paulo\", \"Salvatore\")\r\n",
        "\r\n",
        "print(lista)\r\n",
        "print(type(lista))\r\n",
        "\r\n",
        "nome = lista[0]\r\n",
        "sobrenome = lista[1]\r\n",
        "\r\n",
        "print(nome)\r\n",
        "print(sobrenome)"
      ],
      "execution_count": 25,
      "outputs": [
        {
          "output_type": "stream",
          "text": [
            "('Paulo', 'Salvatore')\n",
            "<class 'tuple'>\n",
            "Paulo\n",
            "Salvatore\n"
          ],
          "name": "stdout"
        }
      ]
    },
    {
      "cell_type": "code",
      "metadata": {
        "id": "u7F8UGfJ7OZ_"
      },
      "source": [
        ""
      ],
      "execution_count": null,
      "outputs": []
    }
  ]
}